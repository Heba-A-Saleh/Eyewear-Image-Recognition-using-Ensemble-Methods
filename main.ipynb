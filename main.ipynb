{
 "cells": [
  {
   "cell_type": "code",
   "execution_count": 1,
   "metadata": {},
   "outputs": [],
   "source": [
    "import os\n",
    "import numpy as np\n",
    "from PIL import Image"
   ]
  },
  {
   "cell_type": "markdown",
   "metadata": {},
   "source": [
    "# DATASET"
   ]
  },
  {
   "cell_type": "code",
   "execution_count": 2,
   "metadata": {},
   "outputs": [],
   "source": [
    "eyewear_encode = {'open': 0, \"sunglasses\":1}"
   ]
  },
  {
   "cell_type": "code",
   "execution_count": 3,
   "metadata": {},
   "outputs": [
    {
     "data": {
      "text/plain": [
       "array([[38, 37, 36, ...,  1,  0,  1],\n",
       "       [37, 36, 36, ...,  0,  0,  0],\n",
       "       [37, 36, 36, ...,  0,  0,  1],\n",
       "       ...,\n",
       "       [40, 40, 39, ...,  1,  0,  3],\n",
       "       [37, 38, 38, ...,  2,  0,  0],\n",
       "       [40, 40, 39, ...,  3,  0,  2]], dtype=uint8)"
      ]
     },
     "execution_count": 3,
     "metadata": {},
     "output_type": "execute_result"
    }
   ],
   "source": [
    "# Training Data\n",
    "train_files =list(map(lambda x: os.path.join(\"TrainingSet/\",x ),os.listdir(\"TrainingSet\")))\n",
    "\n",
    "X_train = []\n",
    "y_train = []\n",
    "\n",
    "for i in train_files:\n",
    "    if i.endswith(\".jpg\"):\n",
    "        eyewear = eyewear_encode[i.split(\"/\")[1].split(\"_\")[3].strip(\".jpg\")]\n",
    "        y_train.append(eyewear)\n",
    "        m = np.asarray(Image.open(i)).flatten()\n",
    "        X_train.append(m)\n",
    "        \n",
    "# Test Data\n",
    "test_files =list(map(lambda x: os.path.join(\"TestSet/\",x ), os.listdir(\"TestSet/\")))\n",
    "\n",
    "X_test = []\n",
    "y_test = []\n",
    "\n",
    "for i in test_files:\n",
    "    if i.endswith(\".jpg\"):\n",
    "        eyewear = eyewear_encode[i.split(\"/\")[1].split(\"_\")[3].strip(\".jpg\")]\n",
    "        y_test.append(eyewear)\n",
    "        m = np.asarray(Image.open(i)).flatten()\n",
    "        X_test.append(m)\n",
    "        \n",
    "X_train = np.array(X_train)\n",
    "y_train = np.array(y_train)\n",
    "\n",
    "X_test = np.array(X_test)\n",
    "y_test = np.array(y_test)\n",
    "X_test"
   ]
  },
  {
   "cell_type": "markdown",
   "metadata": {},
   "source": [
    "# DECISION TREE"
   ]
  },
  {
   "cell_type": "markdown",
   "metadata": {},
   "source": [
    "## part a"
   ]
  },
  {
   "cell_type": "code",
   "execution_count": 4,
   "metadata": {},
   "outputs": [],
   "source": [
    "from sklearn.tree import DecisionTreeClassifier           #importing the Decision tree classifier for the supervised classification\n",
    "from sklearn.metrics import accuracy_score, f1_score      #importing the measurements metrics to check the classifier performance"
   ]
  },
  {
   "cell_type": "code",
   "execution_count": 5,
   "metadata": {},
   "outputs": [],
   "source": [
    "decision_tree = DecisionTreeClassifier(max_depth=2, random_state=0)      #decision tree classifier with depth of 2 and0 randomness\n",
    "decision_tree.fit(X_train, y_train)                                      #training the classifier using x train and y training label\n",
    "\n",
    "pred_train = decision_tree.predict(X_train)                              #predicting the labels for x training set\n",
    "pred_test = decision_tree.predict(X_test)                                #predicting the labels for x testing set\n",
    "\n",
    "\n"
   ]
  },
  {
   "cell_type": "code",
   "execution_count": 6,
   "metadata": {},
   "outputs": [],
   "source": [
    "\n",
    "train_acc = accuracy_score(pred_train,y_train)                          #decision tree model train accuracy\n",
    "test_acc = accuracy_score(pred_test,y_test)                             #decision tree model test accuracy\n"
   ]
  },
  {
   "cell_type": "code",
   "execution_count": 7,
   "metadata": {},
   "outputs": [
    {
     "name": "stdout",
     "output_type": "stream",
     "text": [
      "0.7111111111111111\n",
      "0.45555555555555555\n"
     ]
    }
   ],
   "source": [
    "# DON'T REMOVE THIS CELL\n",
    "print(train_acc)\n",
    "print(test_acc)"
   ]
  },
  {
   "cell_type": "markdown",
   "metadata": {},
   "source": [
    "## part b"
   ]
  },
  {
   "cell_type": "markdown",
   "metadata": {},
   "source": [
    "__Did your model performs well? Is bias low or high? What about variance?__"
   ]
  },
  {
   "cell_type": "markdown",
   "metadata": {},
   "source": [
    "It performed poorly as it has a relativly low bias as well as low variance. the model underfitting the data"
   ]
  },
  {
   "cell_type": "markdown",
   "metadata": {},
   "source": [
    "# BAGGING MODELS"
   ]
  },
  {
   "cell_type": "markdown",
   "metadata": {},
   "source": [
    "## part c"
   ]
  },
  {
   "cell_type": "code",
   "execution_count": 8,
   "metadata": {},
   "outputs": [
    {
     "name": "stderr",
     "output_type": "stream",
     "text": [
      "C:\\Users\\Hebasaleh\\AppData\\Local\\Continuum\\anaconda3\\lib\\site-packages\\sklearn\\ensemble\\weight_boosting.py:29: DeprecationWarning: numpy.core.umath_tests is an internal NumPy module and should not be imported. It will be removed in a future NumPy release.\n",
      "  from numpy.core.umath_tests import inner1d\n"
     ]
    }
   ],
   "source": [
    "from sklearn.ensemble import BaggingClassifier\n",
    "bagging_clf1 = BaggingClassifier(DecisionTreeClassifier(max_depth=2,random_state=0), max_features=40, bootstrap=False, bootstrap_features=False, random_state=0)\n",
    "#builidng the bagging classifier to diverse the modeling set  with decision tree depth 2 as the model using 0 features without replacing using entire dataset sample"
   ]
  },
  {
   "cell_type": "markdown",
   "metadata": {},
   "source": [
    "## part d"
   ]
  },
  {
   "cell_type": "code",
   "execution_count": 9,
   "metadata": {},
   "outputs": [],
   "source": [
    "import matplotlib\n",
    "import matplotlib.pyplot as plt\n",
    "#matplotlib is used to plot graphs"
   ]
  },
  {
   "cell_type": "code",
   "execution_count": 10,
   "metadata": {},
   "outputs": [],
   "source": [
    "# PLOT\n",
    "accuracy_test=[]                                                    #a testing accuracy list to save the results\n",
    "for i in range(1,40):\n",
    "    bagging_clf1.n_estimators=i                                     #  To increase the number of classifiers from 1 until 40 gradually\n",
    "    bagging_clf1.fit(X_train, y_train)                              #training the model usinnf Xtrain\n",
    "    y_pred = bagging_clf1.predict(X_test)                           #predicting the label for x test \n",
    "    accuracy_test.append( accuracy_score(y_test, y_pred) )          #finding the classifier accuracy using the predicted labels from the bagging decision tree model"
   ]
  },
  {
   "cell_type": "code",
   "execution_count": 11,
   "metadata": {},
   "outputs": [
    {
     "data": {
      "image/png": "[encoded data removed]",
      "text/plain": [
       "<Figure size 432x288 with 1 Axes>"
      ]
     },
     "metadata": {
      "needs_background": "light"
     },
     "output_type": "display_data"
    }
   ],
   "source": [
    "fig, ax = plt.subplots()                                                            # set a plot\n",
    "\n",
    "ax.plot(range(1,40),accuracy_test, \"r-+\", linewidth=2, label=\"test accuracy\")       # Ploting the accuracy test list vs number of models from 1 to 40  using red r-+\n",
    "ax.legend()\n",
    "ax.set_ylabel(\"Test Accuracy\")                                                      #x axis label\n",
    "ax.set_xlabel(\"Number of models\")                                                   #y axis label\n",
    "plt.show()                                                                          #plot\n"
   ]
  },
  {
   "cell_type": "code",
   "execution_count": 12,
   "metadata": {},
   "outputs": [
    {
     "name": "stdout",
     "output_type": "stream",
     "text": [
      "best number of models  31 with best accuracy test of 0.7666666666666667\n"
     ]
    }
   ],
   "source": [
    "maximum=0                                                                       #storing the maximum acuuracy test value\n",
    "for i,value in enumerate(accuracy_test):                                        #find the latest maximum accuracy test value\n",
    "    if value>maximum:\n",
    "        maximum=value\n",
    "    if value == maximum:\n",
    "        maximum=value\n",
    "        index=i+1                                                              #return an index with +1 as arrays starts with 0 usually not 1\n",
    "print(\"best number of models \",index,\"with best accuracy test of\",maximum)\n"
   ]
  },
  {
   "cell_type": "markdown",
   "metadata": {},
   "source": [
    "## part e"
   ]
  },
  {
   "cell_type": "markdown",
   "metadata": {},
   "source": [
    "__What is the best number for the number of models in your model? (If there are several best numbers with same accuracy, report the highest number). Calculate train and test accuracy of the bagging model  which has the best number of models.__"
   ]
  },
  {
   "cell_type": "markdown",
   "metadata": {},
   "source": [
    "best number of models  31 with best accuracy test of 0.7666666666666667\n"
   ]
  },
  {
   "cell_type": "code",
   "execution_count": 13,
   "metadata": {},
   "outputs": [],
   "source": [
    "    #the ensembelled classifier using 31 classifier , training  the modetl and testing its performance\n",
    "    bagging_best_estimator_clf1 = BaggingClassifier(DecisionTreeClassifier(max_depth=2,random_state=0),n_estimators=index,max_features=40, bootstrap=False, random_state=0)\n",
    "    bagging_best_estimator_clf1.fit(X_train, y_train)\n",
    "    train_acc = accuracy_score(y_train, bagging_best_estimator_clf1.predict(X_train))\n",
    "    test_acc =accuracy_score(y_test, bagging_best_estimator_clf1.predict(X_test))"
   ]
  },
  {
   "cell_type": "code",
   "execution_count": 14,
   "metadata": {},
   "outputs": [
    {
     "name": "stdout",
     "output_type": "stream",
     "text": [
      "0.9111111111111111\n",
      "0.7666666666666667\n"
     ]
    }
   ],
   "source": [
    "# DON'T REMOVE THIS CELL\n",
    "print(train_acc)\n",
    "print(test_acc)"
   ]
  },
  {
   "cell_type": "markdown",
   "metadata": {},
   "source": [
    "## part f"
   ]
  },
  {
   "cell_type": "markdown",
   "metadata": {},
   "source": [
    "__Compare the decision tree classifier in part a and best bagging classifier in part e in terms of accuracy, bias, and variance.__"
   ]
  },
  {
   "cell_type": "markdown",
   "metadata": {},
   "source": [
    "Part e\n",
    "training accuracy 0.9111111111111111..... training error is 0.089\n",
    "testing accuracy 0.7666666666666667...... testing error is 0.233\n",
    "\n",
    "Part a\n",
    "training accuracy 0.7111111111111111..... training error is 0.2889\n",
    "testing accuracy 0.45555555555555555...... testing error is 0.54445\n",
    "\n",
    "The e model has a higher training and relatively high but good testing accuracies compared to part a, therefore model e has a Low bias (training error is low as well as testing error is low), while lower variance as well. The best bagging classifier with 31 classifier preforms better than decision tree classifier. part f did not overfit the data while in part a classifier it over fitted due to its high testing error and low training error it has a high variance"
   ]
  },
  {
   "cell_type": "code",
   "execution_count": null,
   "metadata": {},
   "outputs": [],
   "source": []
  },
  {
   "cell_type": "markdown",
   "metadata": {},
   "source": [
    "## part g"
   ]
  },
  {
   "cell_type": "code",
   "execution_count": 15,
   "metadata": {},
   "outputs": [],
   "source": [
    "bagging_clf2 = BaggingClassifier(DecisionTreeClassifier(max_depth=2,random_state=0),max_samples = 1.0, max_features=40, random_state=0)\n",
    "#building an ensembly model with decision tree, sampling the training instances with replacement as well as sampling the features without replacement (it is setted by default) "
   ]
  },
  {
   "cell_type": "markdown",
   "metadata": {},
   "source": [
    "## part h"
   ]
  },
  {
   "cell_type": "code",
   "execution_count": 16,
   "metadata": {},
   "outputs": [],
   "source": [
    "# PLOT\n",
    "accuracy_test2=[]                                               #list storing model of accuracy \n",
    "for i in range(1,40):                                           # finding accuracy as  number of models increases\n",
    "    bagging_clf2.n_estimators=i  \n",
    "    bagging_clf2.fit(X_train, y_train)\n",
    "    y_pred = bagging_clf2.predict(X_test)\n",
    "    accuracy_test2.append( accuracy_score(y_test, y_pred) )"
   ]
  },
  {
   "cell_type": "code",
   "execution_count": null,
   "metadata": {},
   "outputs": [],
   "source": []
  },
  {
   "cell_type": "code",
   "execution_count": 17,
   "metadata": {
    "scrolled": false
   },
   "outputs": [
    {
     "data": {
      "image/png": "[encoded data removed]",
      "text/plain": [
       "<Figure size 432x288 with 1 Axes>"
      ]
     },
     "metadata": {
      "needs_background": "light"
     },
     "output_type": "display_data"
    }
   ],
   "source": [
    "fig, ax = plt.subplots()                                                             #plotting the graph of aurracy vs number of models\n",
    "\n",
    "ax.plot(range(1,40),accuracy_test2, \"r-+\", linewidth=2, label=\"test accuracy\")\n",
    "ax.legend()\n",
    "ax.set_ylabel(\"Test Accuracy\")\n",
    "ax.set_xlabel(\"Number of models\")\n",
    "plt.show()"
   ]
  },
  {
   "cell_type": "code",
   "execution_count": 18,
   "metadata": {},
   "outputs": [
    {
     "name": "stdout",
     "output_type": "stream",
     "text": [
      "[0.6555555555555556, 0.6111111111111112, 0.6222222222222222, 0.6222222222222222, 0.6222222222222222, 0.5777777777777777, 0.6, 0.6222222222222222, 0.6111111111111112, 0.6111111111111112, 0.6111111111111112, 0.6666666666666666, 0.6555555555555556, 0.6444444444444445, 0.6777777777777778, 0.7, 0.7111111111111111, 0.7222222222222222, 0.7222222222222222, 0.7444444444444445, 0.7333333333333333, 0.7333333333333333, 0.7444444444444445, 0.7555555555555555, 0.7333333333333333, 0.7333333333333333, 0.7222222222222222, 0.7555555555555555, 0.7666666666666667, 0.7666666666666667, 0.7555555555555555, 0.7777777777777778, 0.7777777777777778, 0.7666666666666667, 0.7666666666666667, 0.7666666666666667, 0.7444444444444445, 0.7333333333333333, 0.7555555555555555]\n"
     ]
    }
   ],
   "source": [
    "print(accuracy_test2)"
   ]
  },
  {
   "cell_type": "code",
   "execution_count": 19,
   "metadata": {},
   "outputs": [
    {
     "name": "stdout",
     "output_type": "stream",
     "text": [
      "best number of models  33 with best accuracy test of 0.7777777777777778\n"
     ]
    }
   ],
   "source": [
    "maximum=0                                                                            #finding the best number of models required for the highest accuracy\n",
    "for i,value in enumerate(accuracy_test2):\n",
    "    if value>maximum:\n",
    "        maximum=value                             #if the value in testing acciracy more than stored max then replace max this is repeated until the maximum value is found\n",
    "    if value == maximum:\n",
    "        maximum=value\n",
    "        index=i+1\n",
    "print(\"best number of models \",index,\"with best accuracy test of\",maximum)"
   ]
  },
  {
   "cell_type": "markdown",
   "metadata": {},
   "source": [
    "## part i"
   ]
  },
  {
   "cell_type": "markdown",
   "metadata": {},
   "source": [
    "__What is the best number for the number of models in your model? (If there are several best numbers with same accuracy, report the highest number). Calculate train and test accuracy of the bagging model which has the best number of models.__"
   ]
  },
  {
   "cell_type": "markdown",
   "metadata": {},
   "source": [
    "best number of models  33 with best accuracy test of 0.7777777777777778"
   ]
  },
  {
   "cell_type": "code",
   "execution_count": 20,
   "metadata": {},
   "outputs": [],
   "source": [
    " #the ensembelled classifier using 33 classifier , training  the modetl and testing its performance\n",
    "\n",
    "bagging_best_estimator_clf2= BaggingClassifier(DecisionTreeClassifier(max_depth=2,random_state=0),n_estimators=index, bootstrap=True, bootstrap_features=False,max_features=40, max_samples = 1.0, random_state=0)\n",
    "bagging_best_estimator_clf2.fit(X_train, y_train)\n",
    "train_acc = accuracy_score(y_train, bagging_best_estimator_clf2.predict(X_train))\n",
    "test_acc =accuracy_score(y_test, bagging_best_estimator_clf2.predict(X_test))\n"
   ]
  },
  {
   "cell_type": "code",
   "execution_count": 21,
   "metadata": {},
   "outputs": [
    {
     "name": "stdout",
     "output_type": "stream",
     "text": [
      "0.9238095238095239\n",
      "0.7777777777777778\n"
     ]
    }
   ],
   "source": [
    "# DON'T REMOVE THIS CELL\n",
    "print(train_acc)\n",
    "print(test_acc)"
   ]
  },
  {
   "cell_type": "markdown",
   "metadata": {},
   "source": [
    "## part j"
   ]
  },
  {
   "cell_type": "markdown",
   "metadata": {},
   "source": [
    "__Compare the decision tree classifier in part a and best bagging classifier in part i in terms of accuracy, bias, and variance.__"
   ]
  },
  {
   "cell_type": "markdown",
   "metadata": {},
   "source": [
    "Part i\n",
    "training accuracy 0.9238095238095239..... training error is 0.07619\n",
    "testing accuracy 0.7777777777777778...... testing error is 0.222\n",
    "\n",
    "Part a\n",
    "training accuracy 0.7111111111111111..... training error is 0.2889\n",
    "testing accuracy 0.45555555555555555...... testing error is 0.54445\n",
    "\n",
    "The i model has a higher training and testing accuracies compared to part a, therefor model i has a Low bias (training error  and testing are as well as testing error is low), while lower variance as the testing error is low. The best bagging classifier with 31 classifier preforms better than decision tree classifier. part i did not overfit the data while in part a classifier it over fitted due to its high testing error and low training error it has a high variance"
   ]
  },
  {
   "cell_type": "markdown",
   "metadata": {},
   "source": [
    "## part k"
   ]
  },
  {
   "cell_type": "markdown",
   "metadata": {},
   "source": [
    "__Compare two bagging models that you found in part e and part i in terms of accuracy, bias, and variance.__"
   ]
  },
  {
   "cell_type": "markdown",
   "metadata": {},
   "source": [
    "Part i\n",
    "training accuracy 0.9238095238095239..... training error is 0.07619\n",
    "testing accuracy 0.7777777777777778...... testing error is 0.222\n",
    "\n",
    "Part e\n",
    "training accuracy 0.9111111111111111..... training error is 0.089\n",
    "testing accuracy 0.7666666666666667...... testing error is 0.233\n",
    "\n",
    "they are close however part i best classifier with max samples of 1 performed slightly better as it is lower biasing error  while part e had bias higher . as well as in variance error, part i had lower variance error "
   ]
  },
  {
   "cell_type": "markdown",
   "metadata": {},
   "source": [
    "## part l"
   ]
  },
  {
   "cell_type": "markdown",
   "metadata": {},
   "source": [
    "__How sampling features and sampling instances affected the performance of your model? Why?__"
   ]
  },
  {
   "cell_type": "markdown",
   "metadata": {},
   "source": [
    "Sampling improves the classifier model performance because as a small instances are collected from theentire data will lower the cost, thus increses the accuracy.Sampling features limits the area of operation thus will further increase the degree of accuracy, if we sampled it."
   ]
  },
  {
   "cell_type": "markdown",
   "metadata": {},
   "source": [
    "# BOOSTING MODELS"
   ]
  },
  {
   "cell_type": "markdown",
   "metadata": {},
   "source": [
    "## part m"
   ]
  },
  {
   "cell_type": "code",
   "execution_count": 22,
   "metadata": {},
   "outputs": [
    {
     "data": {
      "text/plain": [
       "AdaBoostClassifier(algorithm='SAMME.R',\n",
       "          base_estimator=DecisionTreeClassifier(class_weight=None, criterion='gini', max_depth=2,\n",
       "            max_features=None, max_leaf_nodes=None,\n",
       "            min_impurity_decrease=0.0, min_impurity_split=None,\n",
       "            min_samples_leaf=1, min_samples_split=2,\n",
       "            min_weight_fraction_leaf=0.0, presort=False, random_state=0,\n",
       "            splitter='best'),\n",
       "          learning_rate=1.0, n_estimators=50, random_state=0)"
      ]
     },
     "execution_count": 22,
     "metadata": {},
     "output_type": "execute_result"
    }
   ],
   "source": [
    "from sklearn.ensemble import AdaBoostClassifier\n",
    "\n",
    "#Adjustable boosting classifier on the more difficult case putting more weight on them.\n",
    "adaboost_clf  = AdaBoostClassifier( DecisionTreeClassifier(random_state=0,max_depth=2), random_state=0)\n",
    "adaboost_clf.fit(X_train, y_train)"
   ]
  },
  {
   "cell_type": "markdown",
   "metadata": {},
   "source": [
    "## part n"
   ]
  },
  {
   "cell_type": "code",
   "execution_count": 23,
   "metadata": {},
   "outputs": [],
   "source": [
    "# PLOTting the training an dthe testing accuracy as we increse the number of mof=dels gradually to 50\n",
    "train_accuracy=[]\n",
    "test_accuracy=[]\n",
    "for i in range(1,50):                                                  #for loop to increse models gradually\n",
    "    adaboost_clf.n_estimators=i    \n",
    "    adaboost_clf.fit(X_train, y_train)                                   # train the model with different number of estimator                                \n",
    "    y_pred = adaboost_clf.predict(X_test)\n",
    "    train_accuracy.append(accuracy_score(y_train,adaboost_clf.predict(X_train)))     #store the new trianing accuracy in the list\n",
    "    test_accuracy.append( accuracy_score(y_test, y_pred) )                            #store the nre testing accuracy in the list"
   ]
  },
  {
   "cell_type": "code",
   "execution_count": 24,
   "metadata": {},
   "outputs": [
    {
     "data": {
      "image/png": "[encoded data removed]",
      "text/plain": [
       "<Figure size 432x288 with 1 Axes>"
      ]
     },
     "metadata": {
      "needs_background": "light"
     },
     "output_type": "display_data"
    }
   ],
   "source": [
    "fig, ax = plt.subplots()\n",
    "#Plotting the graph \n",
    "ax.plot(range(1,50),test_accuracy, \"r-+\", linewidth=2, label=\"test accuracy\")\n",
    "ax.plot(range(1,50), train_accuracy, \"b-\", linewidth=3, label=\"test\")\n",
    "ax.legend()\n",
    "ax.set_ylabel(\"Boosting Accuracy\")\n",
    "ax.set_xlabel(\"Number of models\")\n",
    "plt.show()\n"
   ]
  },
  {
   "cell_type": "markdown",
   "metadata": {},
   "source": [
    "## part o"
   ]
  },
  {
   "cell_type": "code",
   "execution_count": 25,
   "metadata": {},
   "outputs": [
    {
     "name": "stdout",
     "output_type": "stream",
     "text": [
      "best number of models would be dependent on the testing set to try and minimize overfitting the model therefore 40 with testing accuracy of 0.6666666666666666 and training accuracy of  1.0\n"
     ]
    }
   ],
   "source": [
    "maximum=0                                    \n",
    "for i,value in enumerate(test_accuracy):                      #checking the varians error to Finding the best number of estimator that provide the best maximum accuracy\n",
    "    if value>maximum:                                      #if the value in testing acciracy more than stored max then replace max this is repeated until the maximum value is found\n",
    "        maximum=value\n",
    "    if value == maximum:\n",
    "        maximum=value\n",
    "        index=i+1\n",
    "print(\"best number of models would be dependent on the testing set to try and minimize overfitting the model therefore\",index,\"with testing accuracy of\", maximum, \"and training accuracy of \", train_accuracy[index-1])\n",
    "\n"
   ]
  },
  {
   "cell_type": "markdown",
   "metadata": {},
   "source": [
    "__What is the best number for the number of models in your model? (If there are several best numbers with same accuracy, report the highest number). Report train and test accuracy of the boosting model which has the best number of models.__"
   ]
  },
  {
   "cell_type": "markdown",
   "metadata": {},
   "source": [
    "best number of models would be dependent on the testing set to try and minimize overfitting the model therefore 40 with testing accuracy of 0.6666666666666666 and training accuracy of  1.0"
   ]
  },
  {
   "cell_type": "code",
   "execution_count": 26,
   "metadata": {},
   "outputs": [],
   "source": [
    "adaboost_clf.n_estimators =index\n",
    "adaboost_clf.fit(X_train, y_train) \n",
    "train_acc = accuracy_score(y_train,adaboost_clf.predict(X_train)) \n",
    "test_acc = accuracy_score(y_test,adaboost_clf.predict(X_test)) \n",
    "#retrain the model with the best number of models and calculating its performance"
   ]
  },
  {
   "cell_type": "code",
   "execution_count": 27,
   "metadata": {},
   "outputs": [
    {
     "name": "stdout",
     "output_type": "stream",
     "text": [
      "1.0\n",
      "0.6666666666666666\n"
     ]
    }
   ],
   "source": [
    "# DON'T REMOVE THIS CELL\n",
    "print(train_acc)\n",
    "print(test_acc)"
   ]
  },
  {
   "cell_type": "markdown",
   "metadata": {},
   "source": [
    "# STACKING"
   ]
  },
  {
   "cell_type": "markdown",
   "metadata": {},
   "source": [
    "## part p"
   ]
  },
  {
   "cell_type": "code",
   "execution_count": 28,
   "metadata": {},
   "outputs": [],
   "source": [
    "from sklearn.model_selection import train_test_split             #splitting the training and label sets\n",
    "train_set_1, train_set_2, train_y_1, train_y_2 =train_test_split( X_train, y_train, test_size=0.5, random_state=0)"
   ]
  },
  {
   "cell_type": "code",
   "execution_count": 29,
   "metadata": {},
   "outputs": [
    {
     "name": "stderr",
     "output_type": "stream",
     "text": [
      "C:\\Users\\Hebasaleh\\AppData\\Local\\Continuum\\anaconda3\\lib\\site-packages\\sklearn\\linear_model\\sag.py:326: ConvergenceWarning: The max_iter was reached which means the coef_ did not converge\n",
      "  \"the coef_ did not converge\", ConvergenceWarning)\n"
     ]
    }
   ],
   "source": [
    "from sklearn.linear_model import LogisticRegression\n",
    "log_clf = LogisticRegression(random_state=0, C= 0.001, solver='saga', penalty='l2').fit(train_set_1, train_y_1)    #creating a logistic regression model\n",
    "\n",
    "from sklearn.svm import SVC\n",
    "svc_clf = SVC(random_state= 0, C= 0.1, decision_function_shape= 'ovo', kernel= 'poly', tol= 0.0001, probability= True).fit(train_set_1, train_y_1)  #creating a svc model"
   ]
  },
  {
   "cell_type": "code",
   "execution_count": 30,
   "metadata": {},
   "outputs": [
    {
     "name": "stdout",
     "output_type": "stream",
     "text": [
      "[126 212  77 ... 231 145 182]\n",
      "[ 72 133 179 ... 189  52 160]\n",
      "76\n",
      "82\n"
     ]
    }
   ],
   "source": [
    "# DON'T REMOVE THIS CELL\n",
    "print(sum(train_set_1))\n",
    "print(sum(train_set_2))\n",
    "print(sum(train_y_1))\n",
    "print(sum(train_y_2))"
   ]
  },
  {
   "cell_type": "markdown",
   "metadata": {},
   "source": [
    "## part q"
   ]
  },
  {
   "cell_type": "code",
   "execution_count": 31,
   "metadata": {},
   "outputs": [],
   "source": [
    "import numpy as np                               \n",
    "#making a probabilistic predictions on the train_set_2\n",
    "log_clf_prob=log_clf.predict_proba(train_set_2)\n",
    "svc_clf_prob=svc_clf.predict_proba(train_set_2)\n",
    "new_train_set_2=np.array(len(log_clf_prob))\n",
    "new_train_set_2=[(log_clf_prob[i][0], svc_clf_prob[i][0]) for i in range(len(log_clf_prob))]\n",
    "new_train_set_2=np.asarray(new_train_set_2)"
   ]
  },
  {
   "cell_type": "code",
   "execution_count": 32,
   "metadata": {},
   "outputs": [
    {
     "data": {
      "text/plain": [
       "RandomForestClassifier(bootstrap=True, class_weight=None, criterion='gini',\n",
       "            max_depth=1, max_features='auto', max_leaf_nodes=None,\n",
       "            min_impurity_decrease=0.0, min_impurity_split=None,\n",
       "            min_samples_leaf=1, min_samples_split=2,\n",
       "            min_weight_fraction_leaf=0.0, n_estimators=10, n_jobs=1,\n",
       "            oob_score=False, random_state=0, verbose=0, warm_start=False)"
      ]
     },
     "execution_count": 32,
     "metadata": {},
     "output_type": "execute_result"
    }
   ],
   "source": [
    "from sklearn.ensemble import RandomForestClassifier\n",
    "\n",
    "blender = RandomForestClassifier(random_state=0,max_depth=1, n_estimators=10,max_features='auto') #Create a RandomForest classifier as a blender \n",
    "blender.fit(new_train_set_2, train_y_2)\n"
   ]
  },
  {
   "cell_type": "code",
   "execution_count": 33,
   "metadata": {},
   "outputs": [
    {
     "name": "stdout",
     "output_type": "stream",
     "text": [
      "[76.8927692  73.44946142]\n"
     ]
    }
   ],
   "source": [
    "# DON'T REMOVE THIS CELL\n",
    "print(sum(new_train_set_2))"
   ]
  },
  {
   "cell_type": "code",
   "execution_count": 34,
   "metadata": {},
   "outputs": [
    {
     "data": {
      "text/plain": [
       "158"
      ]
     },
     "execution_count": 34,
     "metadata": {},
     "output_type": "execute_result"
    }
   ],
   "source": [
    "len(new_train_set_2)"
   ]
  },
  {
   "cell_type": "markdown",
   "metadata": {},
   "source": [
    "## part r"
   ]
  },
  {
   "cell_type": "code",
   "execution_count": 35,
   "metadata": {},
   "outputs": [],
   "source": [
    "#probabilistic predictions of X_test using logistic regression and svc classifiers\n",
    "log_clf_testprob = log_clf.predict_proba(X_test)\n",
    "svc_clf_testprob = svc_clf.predict_proba(X_test)\n",
    "\n",
    "new_test_set=[(log_clf_testprob[i][0], svc_clf_testprob[i][0]) for i in range(len(svc_clf_testprob))]\n",
    "new_test_set=np.asarray(new_test_set)\n"
   ]
  },
  {
   "cell_type": "code",
   "execution_count": 36,
   "metadata": {},
   "outputs": [],
   "source": [
    "#predicting the label using the andomForest blender classifier on new_test_set\n",
    "y_test_pred = blender.predict(new_test_set)\n",
    "test_acc =accuracy_score(y_test,y_test_pred)\n",
    "test_f1 = f1_score(y_test, y_test_pred)\n"
   ]
  },
  {
   "cell_type": "code",
   "execution_count": 37,
   "metadata": {},
   "outputs": [
    {
     "name": "stdout",
     "output_type": "stream",
     "text": [
      "\n",
      "Test Scores:\n",
      "0.8111111111111111\n",
      "0.7848101265822784\n"
     ]
    }
   ],
   "source": [
    "# DON'T REMOVE THIS CELL\n",
    "print(\"\\nTest Scores:\")\n",
    "print(test_acc)\n",
    "print(test_f1)"
   ]
  },
  {
   "cell_type": "markdown",
   "metadata": {},
   "source": [
    "__Did stacking model perform well?__"
   ]
  },
  {
   "cell_type": "markdown",
   "metadata": {},
   "source": [
    "Stacking model\n",
    "training accuracy 0.8111111111111111..... training error is 0.1888888\n",
    "testing accuracy 0.7848101265822784...... testing error is 0.215\n",
    "\n",
    "both training and testing error are relativily low thus the model perform well, it does not overfit niether underfit  "
   ]
  },
  {
   "cell_type": "code",
   "execution_count": null,
   "metadata": {},
   "outputs": [],
   "source": []
  }
 ],
 "metadata": {
  "kernelspec": {
   "display_name": "Python 3",
   "language": "python",
   "name": "python3"
  },
  "language_info": {
   "codemirror_mode": {
    "name": "ipython",
    "version": 3
   },
   "file_extension": ".py",
   "mimetype": "text/x-python",
   "name": "python",
   "nbconvert_exporter": "python",
   "pygments_lexer": "ipython3",
   "version": "3.7.0"
  }
 },
 "nbformat": 4,
 "nbformat_minor": 2
}
